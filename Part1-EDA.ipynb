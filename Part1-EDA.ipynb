{
 "cells": [
  {
   "cell_type": "markdown",
   "metadata": {},
   "source": [
    "# PART 1\n",
    "\n",
    "## 1 Assimilate the business scenario and articulate testable hypotheses\n",
    "- Take what you have read from the stories and from what you know about the business scenario and, in your own words, carefully re-state the business opportunity. Given the stated opportunity, enumerate the testable hypotheses.\n",
    "\n",
    "The business opportunity is centered around extracting what countries that show the biggest potential and the optimization of ROI. According to the description \"They have asked you to create a service that, at any point in time, will predict the revenue for the following month. They have also asked that the service be given the ability to project revenue for a specific country... well-projected numbers will help stabilize staffing and budget projections which will have a beneficial ripple effect throughout the company.\" \n",
    "\n",
    "I guess that means the data is collected with the new a la carté system in place. So we should train a model based on this data, then use it to predict future revenue for other countries that haven't tried the system yet etc. \n",
    "\n",
    "    "
   ]
  },
  {
   "cell_type": "markdown",
   "metadata": {},
   "source": [
    "## State the ideal data to address the business opportunity and clarify the rationale for needing specific data.\n",
    "- Note that this step is carried out **before you read in the data**.  It helps clarify exactly what your are looking for in the data and it helps provide context for what the feature matrix and targets will look like.\n",
    "\n",
    "We need the country, user_id, sales, time to start with. "
   ]
  },
  {
   "cell_type": "markdown",
   "metadata": {},
   "source": [
    "## 3. Create a python script to extract relevant data from multiple data sources, automating the process of data ingestion.\n",
    "\n",
    "- From within a Python module there should be a function that reads in the data, attempts to catch common input errors and returns a feature matrix (NumPy array or Pandas DataFrame) that will subsequently be used as a starting point for EDA and modeling.\n",
    "\n"
   ]
  },
  {
   "cell_type": "code",
   "execution_count": 2,
   "metadata": {},
   "outputs": [],
   "source": [
    "import os\n",
    "import numpy as np\n",
    "import pandas as pd\n",
    "import re\n",
    "from matplotlib import pyplot as plt"
   ]
  },
  {
   "cell_type": "code",
   "execution_count": 3,
   "metadata": {},
   "outputs": [],
   "source": [
    "train_data = './data/cs-train'\n",
    "test_data = './data/cs-production'"
   ]
  },
  {
   "cell_type": "code",
   "execution_count": 4,
   "metadata": {},
   "outputs": [],
   "source": [
    "data_dir = train_data\n",
    "## input testing\n",
    "if not os.path.isdir(data_dir):\n",
    "    raise Exception(\"specified data dir does not exist\")\n",
    "if not len(os.listdir(data_dir)) > 0:\n",
    "    raise Exception(\"specified data dir does not contain any files\")\n",
    "\n",
    "##extract the whole path for each invoice \n",
    "file_list = [os.path.join(data_dir,f) for f in os.listdir(data_dir) if re.search(\"\\.json\",f)]\n",
    "\n",
    "## read data into a temp structure\n",
    "all_months = {}\n",
    "for file_name in file_list:\n",
    "    df = pd.read_json(file_name)\n",
    "    ## take the tail as key\n",
    "    all_months[os.path.split(file_name)[1]] = df"
   ]
  },
  {
   "cell_type": "code",
   "execution_count": 5,
   "metadata": {},
   "outputs": [
    {
     "name": "stdout",
     "output_type": "stream",
     "text": [
      "{'invoices-2018-01.json':               country  customer_id invoice  total_price StreamID  TimesViewed  \\\n",
      "0      United Kingdom      15581.0  493463         2.95    20895            1   \n",
      "1      United Kingdom      15581.0  493463         1.25    20866            1   \n",
      "2      United Kingdom      15581.0  493463         0.85    85198           12   \n",
      "3      United Kingdom      15581.0  493463         2.95    20897            1   \n",
      "4      United Kingdom      15581.0  493463         2.95    20898            1   \n",
      "...               ...          ...     ...          ...      ...          ...   \n",
      "35677  United Kingdom      13553.0  496651         5.95    20689            1   \n",
      "35678  United Kingdom      13553.0  496651         7.95    82486            2   \n",
      "35679  United Kingdom      13553.0  496651        12.75   47581B            1   \n",
      "35680  United Kingdom      13553.0  496651         0.29    21986           12   \n",
      "35681  United Kingdom      13553.0  496651         2.55    20828            4   \n",
      "\n",
      "       year  month  day  \n",
      "0      2018      1    1  \n",
      "1      2018      1    1  \n",
      "2      2018      1    1  \n",
      "3      2018      1    1  \n",
      "4      2018      1    1  \n",
      "...     ...    ...  ...  \n",
      "35677  2018      1   31  \n",
      "35678  2018      1   31  \n",
      "35679  2018      1   31  \n",
      "35680  2018      1   31  \n",
      "35681  2018      1   31  \n",
      "\n",
      "[35682 rows x 9 columns], 'invoices-2017-12.json':               country  customer_id invoice  total_price stream_id  \\\n",
      "0      United Kingdom      13162.0  490297         1.25     82093   \n",
      "1      United Kingdom      13162.0  490297         2.10    84327A   \n",
      "2      United Kingdom      13162.0  490297         4.65     47566   \n",
      "3      United Kingdom      13162.0  490297         1.25     21868   \n",
      "4      United Kingdom      13162.0  490297         3.45     22114   \n",
      "...               ...          ...     ...          ...       ...   \n",
      "35721           Spain      12539.0  493393         1.95     21928   \n",
      "35722           Spain      12539.0  493393         1.25     22097   \n",
      "35723           Spain      12539.0  493393         1.95     21929   \n",
      "35724           Spain      12539.0  493393         4.95     22278   \n",
      "35725           Spain      12539.0  493393         2.55     22276   \n",
      "\n",
      "       times_viewed  year  month  day  \n",
      "0                 4  2017     12    1  \n",
      "1                12  2017     12    1  \n",
      "2                10  2017     12    1  \n",
      "3                12  2017     12    1  \n",
      "4                 3  2017     12    1  \n",
      "...             ...   ...    ...  ...  \n",
      "35721            10  2017     12   20  \n",
      "35722            12  2017     12   20  \n",
      "35723            10  2017     12   20  \n",
      "35724             6  2017     12   20  \n",
      "35725             6  2017     12   20  \n",
      "\n",
      "[35726 rows x 9 columns], 'invoices-2019-01.json':               country  customer_id invoice  total_price stream_id  \\\n",
      "0      United Kingdom          NaN  540026         3.36    84912B   \n",
      "1      United Kingdom          NaN  540026         2.51    84870B   \n",
      "2      United Kingdom          NaN  540026         3.36    84849B   \n",
      "3      United Kingdom          NaN  540026         1.66     84832   \n",
      "4      United Kingdom          NaN  540026         2.51    84870C   \n",
      "...               ...          ...     ...          ...       ...   \n",
      "39116  United Kingdom          NaN  543097         4.96     82482   \n",
      "39117  United Kingdom          NaN  543097         2.46    75049L   \n",
      "39118  United Kingdom          NaN  543097         8.29    72807A   \n",
      "39119  United Kingdom          NaN  543097         2.46    72801D   \n",
      "39120  United Kingdom          NaN  543097         4.13    84031A   \n",
      "\n",
      "       times_viewed  year  month  day  \n",
      "0                 1  2019      1    1  \n",
      "1                 4  2019      1    1  \n",
      "2                 1  2019      1    1  \n",
      "3                 6  2019      1    1  \n",
      "4                 4  2019      1    1  \n",
      "...             ...   ...    ...  ...  \n",
      "39116             7  2019      1   31  \n",
      "39117             5  2019      1   31  \n",
      "39118             2  2019      1   31  \n",
      "39119             6  2019      1   31  \n",
      "39120             1  2019      1   31  \n",
      "\n",
      "[39121 rows x 9 columns], 'invoices-2018-11.json':               country  customer_id invoice  price StreamID  TimesViewed  year  \\\n",
      "0      United Kingdom          NaN  530850   1.66    22578            1  2018   \n",
      "1      United Kingdom          NaN  530850   3.36    22549            1  2018   \n",
      "2      United Kingdom          NaN  530850   3.36    22557            1  2018   \n",
      "3      United Kingdom          NaN  530850   2.51    22567            1  2018   \n",
      "4      United Kingdom          NaN  530850   3.36    22553            1  2018   \n",
      "...               ...          ...     ...    ...      ...          ...   ...   \n",
      "86133  United Kingdom          NaN  536876   1.66    22754            3  2018   \n",
      "86134  United Kingdom          NaN  536876   1.66    22755            1  2018   \n",
      "86135  United Kingdom          NaN  536876   2.51    22757            2  2018   \n",
      "86136  United Kingdom          NaN  536876   4.21    22746            2  2018   \n",
      "86137  United Kingdom          NaN  536876   4.21    22324            1  2018   \n",
      "\n",
      "       month  day  \n",
      "0         11    1  \n",
      "1         11    1  \n",
      "2         11    1  \n",
      "3         11    1  \n",
      "4         11    1  \n",
      "...      ...  ...  \n",
      "86133     11   30  \n",
      "86134     11   30  \n",
      "86135     11   30  \n",
      "86136     11   30  \n",
      "86137     11   30  \n",
      "\n",
      "[86138 rows x 9 columns], 'invoices-2018-07.json':               country  customer_id invoice  price StreamID  TimesViewed  year  \\\n",
      "0      United Kingdom      14647.0  514510   1.25    20971            1  2018   \n",
      "1      United Kingdom      14647.0  514510   2.55    22583            4  2018   \n",
      "2      United Kingdom      14647.0  514510   6.75    21462            1  2018   \n",
      "3      United Kingdom      14647.0  514510   1.25    21870            6  2018   \n",
      "4      United Kingdom      14647.0  514510   6.75    21462            1  2018   \n",
      "...               ...          ...     ...    ...      ...          ...   ...   \n",
      "34092  United Kingdom      17298.0  517964   7.95        M            2  2018   \n",
      "34093  United Kingdom      17298.0  517964   2.10    22377            2  2018   \n",
      "34094  United Kingdom      17298.0  517964   1.65    22469            2  2018   \n",
      "34095  United Kingdom      17298.0  517964   0.65    84755            8  2018   \n",
      "34096  United Kingdom      17298.0  517964   1.25    20718           20  2018   \n",
      "\n",
      "       month  day  \n",
      "0          7    1  \n",
      "1          7    1  \n",
      "2          7    1  \n",
      "3          7    1  \n",
      "4          7    1  \n",
      "...      ...  ...  \n",
      "34092      7   31  \n",
      "34093      7   31  \n",
      "34094      7   31  \n",
      "34095      7   31  \n",
      "34096      7   31  \n",
      "\n",
      "[34097 rows x 9 columns]}\n"
     ]
    }
   ],
   "source": [
    "first5pairs = {k: all_months[k] for k in list(all_months)[:5]}\n",
    "print(first5pairs)"
   ]
  },
  {
   "cell_type": "code",
   "execution_count": 6,
   "metadata": {},
   "outputs": [],
   "source": [
    "# tip1: The JSON files may not contain uniformly named features. Be sure to account for this in your data ingestion function.\n",
    "## ensure the data are formatted with correct columns\n",
    "correct_columns = ['country', 'customer_id', 'day', 'invoice', 'month','price', 'stream_id', 'times_viewed', 'year']\n",
    "\n",
    "for f,df in all_months.items():\n",
    "    cols = set(df.columns.tolist())\n",
    "    if 'StreamID' in cols:\n",
    "         df.rename(columns={'StreamID':'stream_id'},inplace=True)\n",
    "    if 'TimesViewed' in cols:\n",
    "        df.rename(columns={'TimesViewed':'times_viewed'},inplace=True)\n",
    "    if 'total_price' in cols:\n",
    "        df.rename(columns={'total_price':'price'},inplace=True)\n",
    "\n",
    "    cols = df.columns.tolist()\n",
    "    if sorted(cols) != correct_columns:\n",
    "        print(cols)\n",
    "        raise Exception(\"columns name could not be matched to correct cols\")"
   ]
  },
  {
   "cell_type": "code",
   "execution_count": 7,
   "metadata": {},
   "outputs": [],
   "source": [
    "## merge all dict values into one df\n",
    "df = pd.concat(list(all_months.values()),sort=True)\n"
   ]
  },
  {
   "cell_type": "code",
   "execution_count": 8,
   "metadata": {},
   "outputs": [],
   "source": [
    "## tip 2: One common way to ready time-series data for modeling is to aggregate the transactions by day. Getting the data into this form will help you prepare for part 2.\n",
    "## merge time column \n",
    "years,months,days = df['year'].values,df['month'].values,df['day'].values \n",
    "\n",
    "# add zeros to months and days with only one digit \n",
    "dates = [\"{}-{}-{}\".format(years[i],str(months[i]).zfill(2),str(days[i]).zfill(2)) for i in range(df.shape[0])]\n",
    "df['invoice_date'] = np.array(dates,dtype='datetime64[D]')"
   ]
  },
  {
   "cell_type": "code",
   "execution_count": 9,
   "metadata": {},
   "outputs": [
    {
     "data": {
      "text/plain": [
       "country              United Kingdom\n",
       "customer_id                   16296\n",
       "day                               1\n",
       "invoice                     C493445\n",
       "month                             1\n",
       "price                          2.55\n",
       "stream_id                    84659A\n",
       "times_viewed                      2\n",
       "year                           2018\n",
       "invoice_date    2018-01-01 00:00:00\n",
       "Name: 20, dtype: object"
      ]
     },
     "metadata": {},
     "output_type": "display_data"
    }
   ],
   "source": [
    "##Some of the invoice ids (invoice) have letters that can be removed to improve matching.\n",
    "## regex expression \\d replace all digits and \\D all letters, t.ex 84659A\n",
    "display(df.iloc[20])\n",
    "df['invoice'] = [re.sub(\"\\D+\",\"\",i) for i in df['invoice'].values]"
   ]
  },
  {
   "cell_type": "code",
   "execution_count": 10,
   "metadata": {},
   "outputs": [],
   "source": [
    "## sort by date and reset the index\n",
    "df.sort_values(by='invoice_date',inplace=True)\n",
    "df.reset_index(drop=True,inplace=True)"
   ]
  },
  {
   "cell_type": "code",
   "execution_count": 11,
   "metadata": {},
   "outputs": [
    {
     "data": {
      "text/html": [
       "<div>\n",
       "<style scoped>\n",
       "    .dataframe tbody tr th:only-of-type {\n",
       "        vertical-align: middle;\n",
       "    }\n",
       "\n",
       "    .dataframe tbody tr th {\n",
       "        vertical-align: top;\n",
       "    }\n",
       "\n",
       "    .dataframe thead th {\n",
       "        text-align: right;\n",
       "    }\n",
       "</style>\n",
       "<table border=\"1\" class=\"dataframe\">\n",
       "  <thead>\n",
       "    <tr style=\"text-align: right;\">\n",
       "      <th></th>\n",
       "      <th>country</th>\n",
       "      <th>customer_id</th>\n",
       "      <th>day</th>\n",
       "      <th>invoice</th>\n",
       "      <th>month</th>\n",
       "      <th>price</th>\n",
       "      <th>stream_id</th>\n",
       "      <th>times_viewed</th>\n",
       "      <th>year</th>\n",
       "      <th>invoice_date</th>\n",
       "    </tr>\n",
       "  </thead>\n",
       "  <tbody>\n",
       "    <tr>\n",
       "      <th>0</th>\n",
       "      <td>United Kingdom</td>\n",
       "      <td>17998.0</td>\n",
       "      <td>28</td>\n",
       "      <td>489562</td>\n",
       "      <td>11</td>\n",
       "      <td>5.95</td>\n",
       "      <td>84656</td>\n",
       "      <td>1</td>\n",
       "      <td>2017</td>\n",
       "      <td>2017-11-28</td>\n",
       "    </tr>\n",
       "    <tr>\n",
       "      <th>1</th>\n",
       "      <td>United Kingdom</td>\n",
       "      <td>13085.0</td>\n",
       "      <td>28</td>\n",
       "      <td>489434</td>\n",
       "      <td>11</td>\n",
       "      <td>6.75</td>\n",
       "      <td>79323W</td>\n",
       "      <td>12</td>\n",
       "      <td>2017</td>\n",
       "      <td>2017-11-28</td>\n",
       "    </tr>\n",
       "    <tr>\n",
       "      <th>2</th>\n",
       "      <td>United Kingdom</td>\n",
       "      <td>13085.0</td>\n",
       "      <td>28</td>\n",
       "      <td>489434</td>\n",
       "      <td>11</td>\n",
       "      <td>2.10</td>\n",
       "      <td>22041</td>\n",
       "      <td>21</td>\n",
       "      <td>2017</td>\n",
       "      <td>2017-11-28</td>\n",
       "    </tr>\n",
       "    <tr>\n",
       "      <th>3</th>\n",
       "      <td>United Kingdom</td>\n",
       "      <td>13085.0</td>\n",
       "      <td>28</td>\n",
       "      <td>489434</td>\n",
       "      <td>11</td>\n",
       "      <td>1.25</td>\n",
       "      <td>21232</td>\n",
       "      <td>5</td>\n",
       "      <td>2017</td>\n",
       "      <td>2017-11-28</td>\n",
       "    </tr>\n",
       "    <tr>\n",
       "      <th>4</th>\n",
       "      <td>United Kingdom</td>\n",
       "      <td>13085.0</td>\n",
       "      <td>28</td>\n",
       "      <td>489434</td>\n",
       "      <td>11</td>\n",
       "      <td>1.65</td>\n",
       "      <td>22064</td>\n",
       "      <td>17</td>\n",
       "      <td>2017</td>\n",
       "      <td>2017-11-28</td>\n",
       "    </tr>\n",
       "  </tbody>\n",
       "</table>\n",
       "</div>"
      ],
      "text/plain": [
       "          country  customer_id  day invoice  month  price stream_id  \\\n",
       "0  United Kingdom      17998.0   28  489562     11   5.95     84656   \n",
       "1  United Kingdom      13085.0   28  489434     11   6.75    79323W   \n",
       "2  United Kingdom      13085.0   28  489434     11   2.10     22041   \n",
       "3  United Kingdom      13085.0   28  489434     11   1.25     21232   \n",
       "4  United Kingdom      13085.0   28  489434     11   1.65     22064   \n",
       "\n",
       "   times_viewed  year invoice_date  \n",
       "0             1  2017   2017-11-28  \n",
       "1            12  2017   2017-11-28  \n",
       "2            21  2017   2017-11-28  \n",
       "3             5  2017   2017-11-28  \n",
       "4            17  2017   2017-11-28  "
      ]
     },
     "execution_count": 11,
     "metadata": {},
     "output_type": "execute_result"
    }
   ],
   "source": [
    "df.head()"
   ]
  },
  {
   "cell_type": "markdown",
   "metadata": {},
   "source": [
    "## 4. Investigate the relationship between the relevant data, the target and the business metric.\n",
    "\n",
    "- Using the feature matrix and the tools abvailable to you through EDA spend some time to get to know the data.\n",
    "\n"
   ]
  },
  {
   "cell_type": "code",
   "execution_count": 12,
   "metadata": {},
   "outputs": [
    {
     "name": "stdout",
     "output_type": "stream",
     "text": [
      "         customer_id            day          month          price  \\\n",
      "count  625249.000000  815011.000000  815011.000000  815011.000000   \n",
      "mean    15333.415068      15.064819       6.592718       4.802631   \n",
      "std      1698.360788       8.788845       3.598781     135.058707   \n",
      "min     12346.000000       1.000000       1.000000  -53594.360000   \n",
      "25%     13956.000000       7.000000       3.000000       1.250000   \n",
      "50%     15279.000000      15.000000       6.000000       2.100000   \n",
      "75%     16813.000000      23.000000      10.000000       4.210000   \n",
      "max     18287.000000      31.000000      12.000000   38970.000000   \n",
      "\n",
      "        times_viewed           year  \n",
      "count  815011.000000  815011.000000  \n",
      "mean        5.231106    2018.247654  \n",
      "std         5.109982       0.545261  \n",
      "min         0.000000    2017.000000  \n",
      "25%         1.000000    2018.000000  \n",
      "50%         3.000000    2018.000000  \n",
      "75%         8.000000    2019.000000  \n",
      "max        24.000000    2019.000000  \n"
     ]
    }
   ],
   "source": [
    "print(df.describe())"
   ]
  },
  {
   "cell_type": "code",
   "execution_count": 29,
   "metadata": {},
   "outputs": [
    {
     "data": {
      "image/png": "[encoded data removed]",
      "text/plain": [
       "<Figure size 432x288 with 1 Axes>"
      ]
     },
     "metadata": {
      "needs_background": "light"
     },
     "output_type": "display_data"
    }
   ],
   "source": [
    "##Check country distribution\n",
    "count = df['country'].value_counts()[:10]\n",
    "invoice_country = count.index\n",
    "plt.bar(invoice_country, count)\n",
    "plt.title('country distribution')\n",
    "plt.xlabel('country')\n",
    "plt.ylabel('count')\n",
    "plt.xticks(rotation=60)\n",
    "plt.show()"
   ]
  },
  {
   "cell_type": "code",
   "execution_count": 70,
   "metadata": {},
   "outputs": [
    {
     "data": {
      "text/plain": [
       "country              0\n",
       "customer_id     189762\n",
       "day                  0\n",
       "invoice              0\n",
       "month                0\n",
       "price                0\n",
       "stream_id            0\n",
       "times_viewed         0\n",
       "year                 0\n",
       "invoice_date         0\n",
       "dtype: int64"
      ]
     },
     "metadata": {},
     "output_type": "display_data"
    }
   ],
   "source": [
    "##Check null occurences\n",
    "display(df.isna().sum())"
   ]
  },
  {
   "cell_type": "code",
   "execution_count": 54,
   "metadata": {},
   "outputs": [
    {
     "name": "stdout",
     "output_type": "stream",
     "text": [
      "invoice start: 2017-11-28 00:00:00 invoice last 2019-07-31 00:00:00\n"
     ]
    }
   ],
   "source": [
    "## check starting and ending period\n",
    "print(\"invoice start:\", df.invoice_date.min(),\"invoice last\", df.invoice_date.max())"
   ]
  },
  {
   "cell_type": "code",
   "execution_count": 14,
   "metadata": {},
   "outputs": [
    {
     "data": {
      "image/png": "[encoded data removed]",
      "text/plain": [
       "<Figure size 432x288 with 1 Axes>"
      ]
     },
     "metadata": {
      "needs_background": "light"
     },
     "output_type": "display_data"
    }
   ],
   "source": [
    "fig = plt.figure()\n",
    "# Create an axes instance\n",
    "ax = fig.add_axes([0,0,1,1])\n",
    "# Create the boxplot\n",
    "bp = ax.boxplot(df['price'])\n",
    "plt.show()"
   ]
  },
  {
   "cell_type": "code",
   "execution_count": 34,
   "metadata": {},
   "outputs": [
    {
     "data": {
      "image/png": "[encoded data removed]",
      "text/plain": [
       "<Figure size 432x288 with 1 Axes>"
      ]
     },
     "metadata": {
      "needs_background": "light"
     },
     "output_type": "display_data"
    }
   ],
   "source": [
    "plt.scatter(df['invoice_date'], df['price'])\n",
    "plt.title('invoice vs price')\n",
    "plt.xlabel('invoice_date')\n",
    "plt.ylabel('price')\n",
    "plt.ylim(-100, 2000)\n",
    "plt.show()"
   ]
  },
  {
   "cell_type": "code",
   "execution_count": 72,
   "metadata": {},
   "outputs": [
    {
     "ename": "NameError",
     "evalue": "name 'x' is not defined",
     "output_type": "error",
     "traceback": [
      "\u001b[0;31m-----------------------------------------------------------------------\u001b[0m",
      "\u001b[0;31mNameError\u001b[0m                             Traceback (most recent call last)",
      "\u001b[0;32m<ipython-input-72-9a1e1ba9d7d3>\u001b[0m in \u001b[0;36m<module>\u001b[0;34m\u001b[0m\n\u001b[1;32m      2\u001b[0m \u001b[0mplt\u001b[0m\u001b[0;34m.\u001b[0m\u001b[0mplot\u001b[0m\u001b[0;34m(\u001b[0m\u001b[0mgroup_df\u001b[0m\u001b[0;34m[\u001b[0m\u001b[0;34m\"invoice_date\"\u001b[0m\u001b[0;34m]\u001b[0m\u001b[0;34m,\u001b[0m\u001b[0mgroup_df\u001b[0m\u001b[0;34m[\u001b[0m\u001b[0;34m'price'\u001b[0m\u001b[0;34m]\u001b[0m\u001b[0;34m)\u001b[0m\u001b[0;34m\u001b[0m\u001b[0;34m\u001b[0m\u001b[0m\n\u001b[1;32m      3\u001b[0m \u001b[0mplt\u001b[0m\u001b[0;34m.\u001b[0m\u001b[0mplot\u001b[0m\u001b[0;34m(\u001b[0m\u001b[0mgroup_df\u001b[0m\u001b[0;34m[\u001b[0m\u001b[0;34m\"invoice_date\"\u001b[0m\u001b[0;34m]\u001b[0m\u001b[0;34m,\u001b[0m\u001b[0mgroup_df\u001b[0m\u001b[0;34m[\u001b[0m\u001b[0;34m'times_viewed'\u001b[0m\u001b[0;34m]\u001b[0m\u001b[0;34m,\u001b[0m\u001b[0mcolor\u001b[0m\u001b[0;34m=\u001b[0m\u001b[0;34m\"r\"\u001b[0m\u001b[0;34m)\u001b[0m\u001b[0;34m,\u001b[0m\u001b[0;34m\u001b[0m\u001b[0;34m\u001b[0m\u001b[0m\n\u001b[0;32m----> 4\u001b[0;31m \u001b[0max\u001b[0m\u001b[0;34m.\u001b[0m\u001b[0mset_xlim\u001b[0m\u001b[0;34m(\u001b[0m\u001b[0;34m[\u001b[0m\u001b[0mx\u001b[0m\u001b[0;34m[\u001b[0m\u001b[0;36m0\u001b[0m\u001b[0;34m]\u001b[0m\u001b[0;34m,\u001b[0m \u001b[0mx\u001b[0m\u001b[0;34m[\u001b[0m\u001b[0;34m-\u001b[0m\u001b[0;36m1\u001b[0m\u001b[0;34m]\u001b[0m\u001b[0;34m]\u001b[0m\u001b[0;34m)\u001b[0m\u001b[0;34m\u001b[0m\u001b[0;34m\u001b[0m\u001b[0m\n\u001b[0m\u001b[1;32m      5\u001b[0m \u001b[0;31m#plt.show()\u001b[0m\u001b[0;34m\u001b[0m\u001b[0;34m\u001b[0m\u001b[0;34m\u001b[0m\u001b[0m\n",
      "\u001b[0;31mNameError\u001b[0m: name 'x' is not defined"
     ]
    },
    {
     "data": {
      "image/png": "[encoded data removed]",
      "text/plain": [
       "<Figure size 432x288 with 1 Axes>"
      ]
     },
     "metadata": {
      "needs_background": "light"
     },
     "output_type": "display_data"
    }
   ],
   "source": [
    "\n",
    "group_df = df.groupby('invoice_date',as_index=False)[['price','times_viewed']].agg({'price':'sum','times_viewed':'sum'})\n",
    "plt.plot(group_df[\"invoice_date\"],group_df['price'])\n",
    "plt.plot(group_df[\"invoice_date\"],group_df['times_viewed'],color=\"r\"),\n",
    "\n",
    "#plt.show()"
   ]
  },
  {
   "cell_type": "code",
   "execution_count": 53,
   "metadata": {},
   "outputs": [
    {
     "data": {
      "image/png": "[encoded data removed]",
      "text/plain": [
       "<Figure size 432x288 with 1 Axes>"
      ]
     },
     "metadata": {
      "needs_background": "light"
     },
     "output_type": "display_data"
    }
   ],
   "source": [
    "group_df = df.groupby('invoice_date',as_index=False).agg({'price':'sum'})\n",
    "plt.scatter(agg_df['invoice_date'], agg_df['price'])\n",
    "plt.title('invoice vs price')\n",
    "plt.xlabel('invoice_date')\n",
    "plt.ylabel('price')\n",
    "#plt.ylim(-100, 2000)\n",
    "plt.show()"
   ]
  },
  {
   "cell_type": "markdown",
   "metadata": {},
   "source": [
    "## 5. Articulate your findings using a deliverable with visualizations.\n",
    "\n",
    "- Summarize what you have learned in your investigations using visualizations.\n",
    "\n",
    "The data is highly skewed towards United_kingdom and a big majority of the prices fall in the range of 0-500. There seem to be some correlation between number of times viewed and the prices during a invoice period."
   ]
  }
 ],
 "metadata": {
  "kernelspec": {
   "display_name": "Python 3",
   "language": "python",
   "name": "python3"
  },
  "language_info": {
   "codemirror_mode": {
    "name": "ipython",
    "version": 3
   },
   "file_extension": ".py",
   "mimetype": "text/x-python",
   "name": "python",
   "nbconvert_exporter": "python",
   "pygments_lexer": "ipython3",
   "version": "3.7.6"
  }
 },
 "nbformat": 4,
 "nbformat_minor": 4
}
